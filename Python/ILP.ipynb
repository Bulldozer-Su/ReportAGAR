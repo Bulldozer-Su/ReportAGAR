{
  "nbformat": 4,
  "nbformat_minor": 0,
  "metadata": {
    "colab": {
      "name": "ILP",
      "provenance": [],
      "collapsed_sections": []
    },
    "kernelspec": {
      "name": "python3",
      "display_name": "Python 3"
    },
    "widgets": {
      "application/vnd.jupyter.widget-state+json": {
        "f63d48aac99344a3b3a51cb88ecdac57": {
          "model_module": "@jupyter-widgets/controls",
          "model_name": "HBoxModel",
          "state": {
            "_view_name": "HBoxView",
            "_dom_classes": [],
            "_model_name": "HBoxModel",
            "_view_module": "@jupyter-widgets/controls",
            "_model_module_version": "1.5.0",
            "_view_count": null,
            "_view_module_version": "1.5.0",
            "box_style": "",
            "layout": "IPY_MODEL_54f9fca94bdf4650a08f9fa7751d595d",
            "_model_module": "@jupyter-widgets/controls",
            "children": [
              "IPY_MODEL_713e1aa662c64ed385a7148b05f8d7cf",
              "IPY_MODEL_d8232a20c6c24f1a800964631094d5c2"
            ]
          }
        },
        "54f9fca94bdf4650a08f9fa7751d595d": {
          "model_module": "@jupyter-widgets/base",
          "model_name": "LayoutModel",
          "state": {
            "_view_name": "LayoutView",
            "grid_template_rows": null,
            "right": null,
            "justify_content": null,
            "_view_module": "@jupyter-widgets/base",
            "overflow": null,
            "_model_module_version": "1.2.0",
            "_view_count": null,
            "flex_flow": null,
            "width": null,
            "min_width": null,
            "border": null,
            "align_items": null,
            "bottom": null,
            "_model_module": "@jupyter-widgets/base",
            "top": null,
            "grid_column": null,
            "overflow_y": null,
            "overflow_x": null,
            "grid_auto_flow": null,
            "grid_area": null,
            "grid_template_columns": null,
            "flex": null,
            "_model_name": "LayoutModel",
            "justify_items": null,
            "grid_row": null,
            "max_height": null,
            "align_content": null,
            "visibility": null,
            "align_self": null,
            "height": null,
            "min_height": null,
            "padding": null,
            "grid_auto_rows": null,
            "grid_gap": null,
            "max_width": null,
            "order": null,
            "_view_module_version": "1.2.0",
            "grid_template_areas": null,
            "object_position": null,
            "object_fit": null,
            "grid_auto_columns": null,
            "margin": null,
            "display": null,
            "left": null
          }
        },
        "713e1aa662c64ed385a7148b05f8d7cf": {
          "model_module": "@jupyter-widgets/controls",
          "model_name": "FloatProgressModel",
          "state": {
            "_view_name": "ProgressView",
            "style": "IPY_MODEL_e443643e31f74d33a668b2aba706a8b9",
            "_dom_classes": [],
            "description": "100%",
            "_model_name": "FloatProgressModel",
            "bar_style": "success",
            "max": 7000,
            "_view_module": "@jupyter-widgets/controls",
            "_model_module_version": "1.5.0",
            "value": 7000,
            "_view_count": null,
            "_view_module_version": "1.5.0",
            "orientation": "horizontal",
            "min": 0,
            "description_tooltip": null,
            "_model_module": "@jupyter-widgets/controls",
            "layout": "IPY_MODEL_fc917439949847a6a11da99d5880fed0"
          }
        },
        "d8232a20c6c24f1a800964631094d5c2": {
          "model_module": "@jupyter-widgets/controls",
          "model_name": "HTMLModel",
          "state": {
            "_view_name": "HTMLView",
            "style": "IPY_MODEL_f2b1868f78444e7ab442c3f40e1f74a6",
            "_dom_classes": [],
            "description": "",
            "_model_name": "HTMLModel",
            "placeholder": "​",
            "_view_module": "@jupyter-widgets/controls",
            "_model_module_version": "1.5.0",
            "value": " 7000/7000 [02:04&lt;00:00, 56.28it/s]",
            "_view_count": null,
            "_view_module_version": "1.5.0",
            "description_tooltip": null,
            "_model_module": "@jupyter-widgets/controls",
            "layout": "IPY_MODEL_7d781b8f1fa04c4bad0e255af4c2c118"
          }
        },
        "e443643e31f74d33a668b2aba706a8b9": {
          "model_module": "@jupyter-widgets/controls",
          "model_name": "ProgressStyleModel",
          "state": {
            "_view_name": "StyleView",
            "_model_name": "ProgressStyleModel",
            "description_width": "initial",
            "_view_module": "@jupyter-widgets/base",
            "_model_module_version": "1.5.0",
            "_view_count": null,
            "_view_module_version": "1.2.0",
            "bar_color": null,
            "_model_module": "@jupyter-widgets/controls"
          }
        },
        "fc917439949847a6a11da99d5880fed0": {
          "model_module": "@jupyter-widgets/base",
          "model_name": "LayoutModel",
          "state": {
            "_view_name": "LayoutView",
            "grid_template_rows": null,
            "right": null,
            "justify_content": null,
            "_view_module": "@jupyter-widgets/base",
            "overflow": null,
            "_model_module_version": "1.2.0",
            "_view_count": null,
            "flex_flow": null,
            "width": null,
            "min_width": null,
            "border": null,
            "align_items": null,
            "bottom": null,
            "_model_module": "@jupyter-widgets/base",
            "top": null,
            "grid_column": null,
            "overflow_y": null,
            "overflow_x": null,
            "grid_auto_flow": null,
            "grid_area": null,
            "grid_template_columns": null,
            "flex": null,
            "_model_name": "LayoutModel",
            "justify_items": null,
            "grid_row": null,
            "max_height": null,
            "align_content": null,
            "visibility": null,
            "align_self": null,
            "height": null,
            "min_height": null,
            "padding": null,
            "grid_auto_rows": null,
            "grid_gap": null,
            "max_width": null,
            "order": null,
            "_view_module_version": "1.2.0",
            "grid_template_areas": null,
            "object_position": null,
            "object_fit": null,
            "grid_auto_columns": null,
            "margin": null,
            "display": null,
            "left": null
          }
        },
        "f2b1868f78444e7ab442c3f40e1f74a6": {
          "model_module": "@jupyter-widgets/controls",
          "model_name": "DescriptionStyleModel",
          "state": {
            "_view_name": "StyleView",
            "_model_name": "DescriptionStyleModel",
            "description_width": "",
            "_view_module": "@jupyter-widgets/base",
            "_model_module_version": "1.5.0",
            "_view_count": null,
            "_view_module_version": "1.2.0",
            "_model_module": "@jupyter-widgets/controls"
          }
        },
        "7d781b8f1fa04c4bad0e255af4c2c118": {
          "model_module": "@jupyter-widgets/base",
          "model_name": "LayoutModel",
          "state": {
            "_view_name": "LayoutView",
            "grid_template_rows": null,
            "right": null,
            "justify_content": null,
            "_view_module": "@jupyter-widgets/base",
            "overflow": null,
            "_model_module_version": "1.2.0",
            "_view_count": null,
            "flex_flow": null,
            "width": null,
            "min_width": null,
            "border": null,
            "align_items": null,
            "bottom": null,
            "_model_module": "@jupyter-widgets/base",
            "top": null,
            "grid_column": null,
            "overflow_y": null,
            "overflow_x": null,
            "grid_auto_flow": null,
            "grid_area": null,
            "grid_template_columns": null,
            "flex": null,
            "_model_name": "LayoutModel",
            "justify_items": null,
            "grid_row": null,
            "max_height": null,
            "align_content": null,
            "visibility": null,
            "align_self": null,
            "height": null,
            "min_height": null,
            "padding": null,
            "grid_auto_rows": null,
            "grid_gap": null,
            "max_width": null,
            "order": null,
            "_view_module_version": "1.2.0",
            "grid_template_areas": null,
            "object_position": null,
            "object_fit": null,
            "grid_auto_columns": null,
            "margin": null,
            "display": null,
            "left": null
          }
        },
        "6dc49cf3a24141a89352c98b0ae3697d": {
          "model_module": "@jupyter-widgets/controls",
          "model_name": "HBoxModel",
          "state": {
            "_view_name": "HBoxView",
            "_dom_classes": [],
            "_model_name": "HBoxModel",
            "_view_module": "@jupyter-widgets/controls",
            "_model_module_version": "1.5.0",
            "_view_count": null,
            "_view_module_version": "1.5.0",
            "box_style": "",
            "layout": "IPY_MODEL_bc04529534624496ad5c01ea91126c44",
            "_model_module": "@jupyter-widgets/controls",
            "children": [
              "IPY_MODEL_0a0263c4f12b4865b6b40c8aca8cc675",
              "IPY_MODEL_e4798cf3d5344a9daa1ae9b74eab7246"
            ]
          }
        },
        "bc04529534624496ad5c01ea91126c44": {
          "model_module": "@jupyter-widgets/base",
          "model_name": "LayoutModel",
          "state": {
            "_view_name": "LayoutView",
            "grid_template_rows": null,
            "right": null,
            "justify_content": null,
            "_view_module": "@jupyter-widgets/base",
            "overflow": null,
            "_model_module_version": "1.2.0",
            "_view_count": null,
            "flex_flow": null,
            "width": null,
            "min_width": null,
            "border": null,
            "align_items": null,
            "bottom": null,
            "_model_module": "@jupyter-widgets/base",
            "top": null,
            "grid_column": null,
            "overflow_y": null,
            "overflow_x": null,
            "grid_auto_flow": null,
            "grid_area": null,
            "grid_template_columns": null,
            "flex": null,
            "_model_name": "LayoutModel",
            "justify_items": null,
            "grid_row": null,
            "max_height": null,
            "align_content": null,
            "visibility": null,
            "align_self": null,
            "height": null,
            "min_height": null,
            "padding": null,
            "grid_auto_rows": null,
            "grid_gap": null,
            "max_width": null,
            "order": null,
            "_view_module_version": "1.2.0",
            "grid_template_areas": null,
            "object_position": null,
            "object_fit": null,
            "grid_auto_columns": null,
            "margin": null,
            "display": null,
            "left": null
          }
        },
        "0a0263c4f12b4865b6b40c8aca8cc675": {
          "model_module": "@jupyter-widgets/controls",
          "model_name": "FloatProgressModel",
          "state": {
            "_view_name": "ProgressView",
            "style": "IPY_MODEL_54627e04f8b64b079871e7f96f99800b",
            "_dom_classes": [],
            "description": "100%",
            "_model_name": "FloatProgressModel",
            "bar_style": "success",
            "max": 7000,
            "_view_module": "@jupyter-widgets/controls",
            "_model_module_version": "1.5.0",
            "value": 7000,
            "_view_count": null,
            "_view_module_version": "1.5.0",
            "orientation": "horizontal",
            "min": 0,
            "description_tooltip": null,
            "_model_module": "@jupyter-widgets/controls",
            "layout": "IPY_MODEL_bad8279ccc384ebca07e6d16cb13290a"
          }
        },
        "e4798cf3d5344a9daa1ae9b74eab7246": {
          "model_module": "@jupyter-widgets/controls",
          "model_name": "HTMLModel",
          "state": {
            "_view_name": "HTMLView",
            "style": "IPY_MODEL_ccc535cb8a814bf6a74d0f1889034247",
            "_dom_classes": [],
            "description": "",
            "_model_name": "HTMLModel",
            "placeholder": "​",
            "_view_module": "@jupyter-widgets/controls",
            "_model_module_version": "1.5.0",
            "value": " 7000/7000 [05:32&lt;00:00, 21.08it/s]",
            "_view_count": null,
            "_view_module_version": "1.5.0",
            "description_tooltip": null,
            "_model_module": "@jupyter-widgets/controls",
            "layout": "IPY_MODEL_c550f2d37e3049dc8f8f429dc4f0acdd"
          }
        },
        "54627e04f8b64b079871e7f96f99800b": {
          "model_module": "@jupyter-widgets/controls",
          "model_name": "ProgressStyleModel",
          "state": {
            "_view_name": "StyleView",
            "_model_name": "ProgressStyleModel",
            "description_width": "initial",
            "_view_module": "@jupyter-widgets/base",
            "_model_module_version": "1.5.0",
            "_view_count": null,
            "_view_module_version": "1.2.0",
            "bar_color": null,
            "_model_module": "@jupyter-widgets/controls"
          }
        },
        "bad8279ccc384ebca07e6d16cb13290a": {
          "model_module": "@jupyter-widgets/base",
          "model_name": "LayoutModel",
          "state": {
            "_view_name": "LayoutView",
            "grid_template_rows": null,
            "right": null,
            "justify_content": null,
            "_view_module": "@jupyter-widgets/base",
            "overflow": null,
            "_model_module_version": "1.2.0",
            "_view_count": null,
            "flex_flow": null,
            "width": null,
            "min_width": null,
            "border": null,
            "align_items": null,
            "bottom": null,
            "_model_module": "@jupyter-widgets/base",
            "top": null,
            "grid_column": null,
            "overflow_y": null,
            "overflow_x": null,
            "grid_auto_flow": null,
            "grid_area": null,
            "grid_template_columns": null,
            "flex": null,
            "_model_name": "LayoutModel",
            "justify_items": null,
            "grid_row": null,
            "max_height": null,
            "align_content": null,
            "visibility": null,
            "align_self": null,
            "height": null,
            "min_height": null,
            "padding": null,
            "grid_auto_rows": null,
            "grid_gap": null,
            "max_width": null,
            "order": null,
            "_view_module_version": "1.2.0",
            "grid_template_areas": null,
            "object_position": null,
            "object_fit": null,
            "grid_auto_columns": null,
            "margin": null,
            "display": null,
            "left": null
          }
        },
        "ccc535cb8a814bf6a74d0f1889034247": {
          "model_module": "@jupyter-widgets/controls",
          "model_name": "DescriptionStyleModel",
          "state": {
            "_view_name": "StyleView",
            "_model_name": "DescriptionStyleModel",
            "description_width": "",
            "_view_module": "@jupyter-widgets/base",
            "_model_module_version": "1.5.0",
            "_view_count": null,
            "_view_module_version": "1.2.0",
            "_model_module": "@jupyter-widgets/controls"
          }
        },
        "c550f2d37e3049dc8f8f429dc4f0acdd": {
          "model_module": "@jupyter-widgets/base",
          "model_name": "LayoutModel",
          "state": {
            "_view_name": "LayoutView",
            "grid_template_rows": null,
            "right": null,
            "justify_content": null,
            "_view_module": "@jupyter-widgets/base",
            "overflow": null,
            "_model_module_version": "1.2.0",
            "_view_count": null,
            "flex_flow": null,
            "width": null,
            "min_width": null,
            "border": null,
            "align_items": null,
            "bottom": null,
            "_model_module": "@jupyter-widgets/base",
            "top": null,
            "grid_column": null,
            "overflow_y": null,
            "overflow_x": null,
            "grid_auto_flow": null,
            "grid_area": null,
            "grid_template_columns": null,
            "flex": null,
            "_model_name": "LayoutModel",
            "justify_items": null,
            "grid_row": null,
            "max_height": null,
            "align_content": null,
            "visibility": null,
            "align_self": null,
            "height": null,
            "min_height": null,
            "padding": null,
            "grid_auto_rows": null,
            "grid_gap": null,
            "max_width": null,
            "order": null,
            "_view_module_version": "1.2.0",
            "grid_template_areas": null,
            "object_position": null,
            "object_fit": null,
            "grid_auto_columns": null,
            "margin": null,
            "display": null,
            "left": null
          }
        }
      }
    }
  },
  "cells": [
    {
      "cell_type": "markdown",
      "metadata": {
        "id": "FDrtV2D5MVJY"
      },
      "source": [
        "# Linear Integer Programming"
      ]
    },
    {
      "cell_type": "markdown",
      "metadata": {
        "id": "fSx10nPlMZ2I"
      },
      "source": [
        "## Imports"
      ]
    },
    {
      "cell_type": "code",
      "metadata": {
        "id": "iBiJBaPoKrpr",
        "outputId": "268d2403-53b4-4a20-e6b4-5e9699b7352a",
        "colab": {
          "base_uri": "https://localhost:8080/"
        }
      },
      "source": [
        "from google.colab import drive\n",
        "drive.mount('/content/drive')"
      ],
      "execution_count": null,
      "outputs": [
        {
          "output_type": "stream",
          "text": [
            "Drive already mounted at /content/drive; to attempt to forcibly remount, call drive.mount(\"/content/drive\", force_remount=True).\n"
          ],
          "name": "stdout"
        }
      ]
    },
    {
      "cell_type": "code",
      "metadata": {
        "id": "CEnh2-8hKyCE",
        "outputId": "60abff53-1eab-480a-dee7-3f940c887dd8",
        "colab": {
          "base_uri": "https://localhost:8080/"
        }
      },
      "source": [
        "!pip install pulp"
      ],
      "execution_count": null,
      "outputs": [
        {
          "output_type": "stream",
          "text": [
            "Requirement already satisfied: pulp in /usr/local/lib/python3.6/dist-packages (2.3.1)\n",
            "Requirement already satisfied: amply>=0.1.2 in /usr/local/lib/python3.6/dist-packages (from pulp) (0.1.4)\n",
            "Requirement already satisfied: pyparsing in /usr/local/lib/python3.6/dist-packages (from amply>=0.1.2->pulp) (2.4.7)\n",
            "Requirement already satisfied: docutils>=0.3 in /usr/local/lib/python3.6/dist-packages (from amply>=0.1.2->pulp) (0.16)\n"
          ],
          "name": "stdout"
        }
      ]
    },
    {
      "cell_type": "code",
      "metadata": {
        "id": "AzvZmWuAKybb"
      },
      "source": [
        "import networkx as nx\n",
        "import pulp\n",
        "import random\n",
        "import matplotlib.pyplot as plt\n",
        "import numpy as np\n",
        "import pandas as pd\n",
        "import math\n",
        "from tqdm.notebook import tqdm as pb\n",
        "import sys\n",
        "import pylab \n",
        "pylab.rcParams['figure.figsize'] = (10, 10)\n",
        "\n",
        "import time"
      ],
      "execution_count": null,
      "outputs": []
    },
    {
      "cell_type": "markdown",
      "metadata": {
        "id": "-eUcM4AvMcN9"
      },
      "source": [
        "## Data"
      ]
    },
    {
      "cell_type": "code",
      "metadata": {
        "id": "eWc7rMIvK6Oy",
        "outputId": "c420c51c-e476-4899-f8b9-afb618c646a8",
        "colab": {
          "base_uri": "https://localhost:8080/",
          "height": 204
        }
      },
      "source": [
        "#Parser de fichiers\n",
        "df = pd.read_csv(\"drive/My Drive/Colab Notebooks/data.txt\",header=None)\n",
        "M = df.values\n",
        "df.head()"
      ],
      "execution_count": null,
      "outputs": [
        {
          "output_type": "execute_result",
          "data": {
            "text/html": [
              "<div>\n",
              "<style scoped>\n",
              "    .dataframe tbody tr th:only-of-type {\n",
              "        vertical-align: middle;\n",
              "    }\n",
              "\n",
              "    .dataframe tbody tr th {\n",
              "        vertical-align: top;\n",
              "    }\n",
              "\n",
              "    .dataframe thead th {\n",
              "        text-align: right;\n",
              "    }\n",
              "</style>\n",
              "<table border=\"1\" class=\"dataframe\">\n",
              "  <thead>\n",
              "    <tr style=\"text-align: right;\">\n",
              "      <th></th>\n",
              "      <th>0</th>\n",
              "      <th>1</th>\n",
              "      <th>2</th>\n",
              "      <th>3</th>\n",
              "    </tr>\n",
              "  </thead>\n",
              "  <tbody>\n",
              "    <tr>\n",
              "      <th>0</th>\n",
              "      <td>0</td>\n",
              "      <td>-11.03</td>\n",
              "      <td>-82.33</td>\n",
              "      <td>46</td>\n",
              "    </tr>\n",
              "    <tr>\n",
              "      <th>1</th>\n",
              "      <td>1</td>\n",
              "      <td>-4.93</td>\n",
              "      <td>-98.05</td>\n",
              "      <td>96</td>\n",
              "    </tr>\n",
              "    <tr>\n",
              "      <th>2</th>\n",
              "      <td>2</td>\n",
              "      <td>81.52</td>\n",
              "      <td>2.41</td>\n",
              "      <td>49</td>\n",
              "    </tr>\n",
              "    <tr>\n",
              "      <th>3</th>\n",
              "      <td>3</td>\n",
              "      <td>36.82</td>\n",
              "      <td>-42.62</td>\n",
              "      <td>71</td>\n",
              "    </tr>\n",
              "    <tr>\n",
              "      <th>4</th>\n",
              "      <td>4</td>\n",
              "      <td>-69.86</td>\n",
              "      <td>11.88</td>\n",
              "      <td>27</td>\n",
              "    </tr>\n",
              "  </tbody>\n",
              "</table>\n",
              "</div>"
            ],
            "text/plain": [
              "   0      1      2   3\n",
              "0  0 -11.03 -82.33  46\n",
              "1  1  -4.93 -98.05  96\n",
              "2  2  81.52   2.41  49\n",
              "3  3  36.82 -42.62  71\n",
              "4  4 -69.86  11.88  27"
            ]
          },
          "metadata": {
            "tags": []
          },
          "execution_count": 113
        }
      ]
    },
    {
      "cell_type": "markdown",
      "metadata": {
        "id": "zT-x-TfeMd_Q"
      },
      "source": [
        "## Object"
      ]
    },
    {
      "cell_type": "code",
      "metadata": {
        "id": "fyj0iSQSLJJj"
      },
      "source": [
        "class LPSolver_AGAR():\n",
        "    def __init__(self, M, knn=-1):\n",
        "        self.data = M\n",
        "        self.knn = knn\n",
        "    \n",
        "    def _create_distance_edges(self):\n",
        "        dim = self.data.shape[0]\n",
        "        edges_dist = {}\n",
        "        edges_list = []\n",
        "        for i in pb(range(dim)):\n",
        "            temp = np.zeros((dim))\n",
        "            for j in range(dim):\n",
        "                temp[j] = math.sqrt((self.data[i,1] - self.data[j,1])**2 + (self.data[i,2] - self.data[j,2])**2)\n",
        "                \n",
        "            min_dist = np.argsort(temp)\n",
        "            for j in range(1,min(self.knn+1, dim)):\n",
        "                to = min_dist[j]\n",
        "                edges_list.append((i, to))\n",
        "                edges_list.append((to, i))\n",
        "                edges_dist[i, to] = temp[to]\n",
        "                edges_dist[to, i] = temp[to]\n",
        "        \n",
        "        # init coords\n",
        "        temp = np.zeros((dim))\n",
        "        for j in range(dim):\n",
        "            temp[j] = math.sqrt((0. - self.data[j,1])**2 + (0. - self.data[j,2])**2)\n",
        "                \n",
        "        min_dist = np.argsort(temp)\n",
        "        for j in range(1,min(self.knn+1, dim)):\n",
        "            to = min_dist[j]\n",
        "            edges_list.append((dim, to))\n",
        "            edges_dist[dim, to] = temp[to]\n",
        "                    \n",
        "        return [edges_dist, edges_list, dim+1]\n",
        "\n",
        "    def _get_solution_and_add_constraints(self, G, edge_activation, edge_distances, source, target):\n",
        "        validated = []\n",
        "        correct = []\n",
        "        actual_node = source\n",
        "        edges_choosen = [[] for i in range(len(G.nodes))]\n",
        "        for i,j in G.edges:\n",
        "            if edge_activation[i,j].value() == 1.0:\n",
        "                edges_choosen[i].append(j)\n",
        "        while actual_node != target:\n",
        "            if len(edges_choosen[actual_node]) != 1:\n",
        "                print(actual_node, edges_choosen[actual_node])\n",
        "                print(\"error\")\n",
        "            else:\n",
        "                correct.append(actual_node)\n",
        "                next_ = edges_choosen[actual_node][0]\n",
        "                validated.append((actual_node,next_))\n",
        "                actual_node = next_\n",
        "        correct.append(actual_node)\n",
        "        # detect cycle and will delete one of the edges\n",
        "        cycles = []\n",
        "        memory = []\n",
        "        for i in range(len(edges_choosen)):\n",
        "            if i not in correct and i not in memory and len(edges_choosen[i]) != 0:\n",
        "                temp = []\n",
        "                final_node = i\n",
        "                temp.append(final_node)\n",
        "                final_node = edges_choosen[final_node][0]\n",
        "                while final_node != i:\n",
        "                    next_ = edges_choosen[final_node][0]\n",
        "                    temp.append(final_node)\n",
        "                    final_node = next_\n",
        "                memory += temp\n",
        "                cycles.append(temp)\n",
        "        # select first edge of each cycles and will add it to the future constraint\n",
        "        return cycles, validated\n",
        "\n",
        "    def create_graph(self, edges_dist, edges_list):\n",
        "        # Create the Graph\n",
        "        G = nx.DiGraph()\n",
        "        # add nodes\n",
        "        for i in range(dim):\n",
        "            G.add_node(i)\n",
        "        # add edges\n",
        "        G.add_edges_from(edges_list)\n",
        "        nx.set_edge_attributes(G, edges_dist, 'weight')\n",
        "        \"\"\"\n",
        "        pos = nx.spring_layout(G)\n",
        "        nx.draw_networkx(G, pos)\n",
        "        plt.show()\n",
        "        \"\"\"\n",
        "        return G\n",
        "\n",
        "    def create_stable_problem(self, G, max_pair, dim, _max_time, init_rewards):\n",
        "        time1 = time.time()\n",
        "\n",
        "        rewards = np.append(init_rewards, 0)\n",
        "        # Source and target\n",
        "        source = max_pair[0]\n",
        "        target = max_pair[1]\n",
        "            \n",
        "        # Non changing parameters\n",
        "        edge_distances = nx.get_edge_attributes(G, 'weight')\n",
        "\n",
        "        # instantiate\n",
        "        prob = pulp.LpProblem(\"MaxRewardInLimitedTime\", pulp.LpMaximize)\n",
        "        # binary variable to state a link is chosen or not\n",
        "        edge_activation = {}\n",
        "\n",
        "        vertices = [[] for i in range(dim)]\n",
        "        vertices\n",
        "        for i, j in G.edges.keys():\n",
        "            x = pulp.LpVariable(\"activ(%s,%s)\" % (i,j), cat=pulp.LpBinary)\n",
        "            edge_activation[i, j] = x\n",
        "            if i == source:\n",
        "                vertices[i].append(edge_activation[i, j])\n",
        "            else:\n",
        "                vertices[j].append(edge_activation[i, j])\n",
        "        \n",
        "        vertices = [pulp.lpSum(vertices[i])*rewards[i] for i in range(dim)]\n",
        "        # objective function\n",
        "        prob += pulp.lpSum(vertices), \"Total Hop Count\"\n",
        "\n",
        "        # constraints\n",
        "        constraints = []\n",
        "        for node in G.nodes:\n",
        "            if node == source:\n",
        "                prob += pulp.lpSum([edge_activation[i, k] for i, k in G.edges if k == node]) - \\\n",
        "                      pulp.lpSum([edge_activation[k, j] for k, j in G.edges if k == node]) == -1\n",
        "                prob += pulp.lpSum([edge_activation[i, k] for i, k in G.edges if k == node]) == 0\n",
        "            elif node == target:\n",
        "                prob += pulp.lpSum([edge_activation[i, k] for i, k in G.edges if k == node]) - \\\n",
        "                      pulp.lpSum([edge_activation[k, j] for k, j in G.edges if k == node]) == 1\n",
        "                prob += pulp.lpSum([edge_activation[k, j] for k, j in G.edges if k == node]) == 0\n",
        "            else:   \n",
        "                prob += pulp.lpSum([edge_activation[i, k] for i, k in G.edges if k == node]) - \\\n",
        "                      pulp.lpSum([edge_activation[k, j] for k, j in G.edges if k == node]) == 0\n",
        "                prob += pulp.lpSum([edge_activation[i, k] for i, k in G.edges if k == node]) + \\\n",
        "                      pulp.lpSum([edge_activation[k, j] for k, j in G.edges if k == node]) <= 2\n",
        "         \n",
        "        # for each edge \n",
        "        for i, j in G.edges:\n",
        "            try:\n",
        "                edge_activation[j, i]\n",
        "                prob += pulp.lpSum([edge_activation[i, j], edge_activation[j, i]]) <= 1\n",
        "            except Exception:\n",
        "                pass\n",
        "     \n",
        "        # inferior to max time\n",
        "        prob += pulp.lpSum([edge_distances[i, j] * edge_activation[i, j] for i, j in G.edges]) <= _max_time\n",
        "\n",
        "        print(time.time()-time1)\n",
        "\n",
        "        return prob, edge_activation, edge_distances, rewards\n",
        "        \n",
        "\n",
        "    def _optimize(self, G, max_pair, prob, edge_activation, edge_distances, time_limit, cycles, rewards):\n",
        "        source = max_pair[0]\n",
        "        target = max_pair[1]\n",
        "\n",
        "        # break previous cycles and hopefully will come over\n",
        "        for cycle in cycles:\n",
        "            vertices_nb = len(cycle)\n",
        "            cycle_cons = [edge_activation[cycle[k-1], cycle[k]] for k in range(vertices_nb)]\n",
        "            cycle_cons_inv = [edge_activation[cycle[k], cycle[k-1]] for k in range(vertices_nb)]\n",
        "\n",
        "            prob += pulp.lpSum([cycle_cons]) <= vertices_nb-1\n",
        "            prob += pulp.lpSum([cycle_cons_inv]) <= vertices_nb-1\n",
        "                   \n",
        "        \n",
        "        # solve\n",
        "        prob.solve(pulp.PULP_CBC_CMD(timeLimit=time_limit, msg=1, gapRel=0))\n",
        "\n",
        "        if prob.status != 1:\n",
        "            raise Exception(\"Problem can't be solved : {}\".format(pulp.LpStatus[prob.status]))\n",
        "        else:\n",
        "            new_cycles, path = self._get_solution_and_add_constraints(G, edge_activation, edge_distances, source, target)\n",
        "            return path, new_cycles, prob, pulp.value(prob.objective)"
      ],
      "execution_count": null,
      "outputs": []
    },
    {
      "cell_type": "code",
      "metadata": {
        "id": "oDe430vyOoKr"
      },
      "source": [
        "def get_sub_section(M, coord1, coord2):\n",
        "    indices = []\n",
        "    for i in range(M.shape[0]):\n",
        "        if M[i,1] >= coord1[0] and M[i,1] <= coord2[0] and M[i, 2] >= coord1[1] and M[i, 2] <= coord2[1]:\n",
        "            indices.append(i)\n",
        "    # colors\n",
        "    colors = np.zeros((M.shape[0]))\n",
        "    for i in indices:\n",
        "        colors[i] = 1\n",
        "    return np.copy(M)[indices,:], colors"
      ],
      "execution_count": null,
      "outputs": []
    },
    {
      "cell_type": "code",
      "metadata": {
        "id": "Edh_2BOyOp4K"
      },
      "source": [
        "def create_dist_matrix(M):\n",
        "    dim = M.shape[0]\n",
        "    dist_M = np.zeros((dim,dim))\n",
        "    for i in pb(range(dim)):\n",
        "        for j in range(dim):\n",
        "            dist_M[i,j] = math.sqrt((M[i,1] - M[j,1])**2 + (M[i,2] - M[j,2])**2)\n",
        "    return dist_M"
      ],
      "execution_count": null,
      "outputs": []
    },
    {
      "cell_type": "markdown",
      "metadata": {
        "id": "DpLxOxFaMhtX"
      },
      "source": [
        "## Processing"
      ]
    },
    {
      "cell_type": "code",
      "metadata": {
        "id": "AY4VXGzPP-JL",
        "outputId": "cebc0393-6ebc-402f-d448-ffd190779f66",
        "colab": {
          "base_uri": "https://localhost:8080/",
          "height": 66,
          "referenced_widgets": [
            "f63d48aac99344a3b3a51cb88ecdac57",
            "54f9fca94bdf4650a08f9fa7751d595d",
            "713e1aa662c64ed385a7148b05f8d7cf",
            "d8232a20c6c24f1a800964631094d5c2",
            "e443643e31f74d33a668b2aba706a8b9",
            "fc917439949847a6a11da99d5880fed0",
            "f2b1868f78444e7ab442c3f40e1f74a6",
            "7d781b8f1fa04c4bad0e255af4c2c118"
          ]
        }
      },
      "source": [
        "indices = M[:,3] > 30\n",
        "M_threshold = M[indices]\n",
        "M_threshold.shape[0]\n",
        "distances_M = create_dist_matrix(M_threshold)"
      ],
      "execution_count": null,
      "outputs": [
        {
          "output_type": "display_data",
          "data": {
            "application/vnd.jupyter.widget-view+json": {
              "model_id": "f63d48aac99344a3b3a51cb88ecdac57",
              "version_minor": 0,
              "version_major": 2
            },
            "text/plain": [
              "HBox(children=(FloatProgress(value=0.0, max=7000.0), HTML(value='')))"
            ]
          },
          "metadata": {
            "tags": []
          }
        },
        {
          "output_type": "stream",
          "text": [
            "\n"
          ],
          "name": "stdout"
        }
      ]
    },
    {
      "cell_type": "code",
      "metadata": {
        "id": "I_togQi7UGXe"
      },
      "source": [
        "lp_solver = LPSolver_AGAR(M_threshold, 3)"
      ],
      "execution_count": null,
      "outputs": []
    },
    {
      "cell_type": "code",
      "metadata": {
        "id": "ksNe8N4vUOg6",
        "outputId": "f9b35366-c9ed-4ab3-c666-9c8ba14577ac",
        "colab": {
          "base_uri": "https://localhost:8080/",
          "height": 66,
          "referenced_widgets": [
            "6dc49cf3a24141a89352c98b0ae3697d",
            "bc04529534624496ad5c01ea91126c44",
            "0a0263c4f12b4865b6b40c8aca8cc675",
            "e4798cf3d5344a9daa1ae9b74eab7246",
            "54627e04f8b64b079871e7f96f99800b",
            "bad8279ccc384ebca07e6d16cb13290a",
            "ccc535cb8a814bf6a74d0f1889034247",
            "c550f2d37e3049dc8f8f429dc4f0acdd"
          ]
        }
      },
      "source": [
        "[edges_dist, edges_list, dim] = lp_solver._create_distance_edges()"
      ],
      "execution_count": null,
      "outputs": [
        {
          "output_type": "display_data",
          "data": {
            "application/vnd.jupyter.widget-view+json": {
              "model_id": "6dc49cf3a24141a89352c98b0ae3697d",
              "version_minor": 0,
              "version_major": 2
            },
            "text/plain": [
              "HBox(children=(FloatProgress(value=0.0, max=7000.0), HTML(value='')))"
            ]
          },
          "metadata": {
            "tags": []
          }
        },
        {
          "output_type": "stream",
          "text": [
            "\n"
          ],
          "name": "stdout"
        }
      ]
    },
    {
      "cell_type": "code",
      "metadata": {
        "id": "bwErNlM7VfAM"
      },
      "source": [
        "G = lp_solver.create_graph(edges_dist, edges_list)"
      ],
      "execution_count": null,
      "outputs": []
    },
    {
      "cell_type": "code",
      "metadata": {
        "id": "y09yjwYceOeT",
        "outputId": "14fff242-e1dc-4a21-cfd4-e5be38c6f09b",
        "colab": {
          "base_uri": "https://localhost:8080/"
        }
      },
      "source": [
        "prob, edge_activation, edge_distances, rewards = lp_solver.create_stable_problem(G.copy(), (dim-1,0), dim, 10000., M_threshold[:,3])"
      ],
      "execution_count": null,
      "outputs": [
        {
          "output_type": "stream",
          "text": [
            "220.01911759376526\n"
          ],
          "name": "stdout"
        }
      ]
    },
    {
      "cell_type": "code",
      "metadata": {
        "id": "Hi5AW8eXXUwq"
      },
      "source": [
        "path, update_constraints, prob, sum_rewards = lp_solver._optimize(G.copy(), (dim-1,0), prob, edge_activation, edge_distances, 60*10*6, [], rewards)"
      ],
      "execution_count": null,
      "outputs": []
    },
    {
      "cell_type": "code",
      "metadata": {
        "id": "tTb6BS1potGn"
      },
      "source": [
        "while len(update_constraints) != 0:\n",
        "    path, update_constraints, prob, sum_rewards = lp_solver._optimize(G.copy(), (dim-1,0), prob, edge_activation, edge_distances, 60*10, update_constraints, rewards)\n",
        "    print(len(path), len(update_constraints), sum_rewards)"
      ],
      "execution_count": null,
      "outputs": []
    },
    {
      "cell_type": "code",
      "metadata": {
        "id": "xTesAjjZJQLO"
      },
      "source": [
        "print(len(path), len(update_constraints), sum_rewards)"
      ],
      "execution_count": null,
      "outputs": []
    },
    {
      "cell_type": "markdown",
      "metadata": {
        "id": "QNCy-xg6M0X9"
      },
      "source": [
        "One improvement could be to take in account that the system will take a lot of time to propose only one unique path. Then if the number of cycles is really low (max 10 for example) we coul aggregate the cycle to the path by selecting the most nearest point of path-cycle and create/delete edges to respect the path structure"
      ]
    }
  ]
}